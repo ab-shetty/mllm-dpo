{
 "cells": [
  {
   "cell_type": "code",
   "execution_count": 1,
   "metadata": {},
   "outputs": [],
   "source": [
    "import json\n",
    "\n",
    "jsonl_file_path = '/home/ubuntu/latest_llava/LLaVA/llava/eval/data/alpaca_eval/model_answer/llava-13b-0203-all--image-preference-sci3k-lrv3k-lora-dpo-beta-0.1-lr-5e-5-avg-False-question-addedimagetoken.jsonl'\n",
    "json_file_path = '/home/ubuntu/latest_llava/LLaVA/llava/eval/data/alpaca_eval/model_answer/llava-13b-0203-all--image-preference-sci3k-lrv3k-lora-dpo-beta-0.1-lr-5e-5-avg-False-question-addedimagetoken.json'\n",
    "\n",
    "# Read the JSONL file\n",
    "with open(jsonl_file_path, 'r') as jsonl_file:\n",
    "    jsonl_data = jsonl_file.readlines()\n",
    "\n",
    "# Convert each line from JSONL to JSON\n",
    "json_data = [json.loads(line) for line in jsonl_data]\n",
    "\n",
    "# Write the JSON data to a JSON file\n",
    "with open(json_file_path, 'w') as json_file:\n",
    "    json.dump(json_data, json_file)\n"
   ]
  },
  {
   "cell_type": "code",
   "execution_count": 2,
   "metadata": {},
   "outputs": [
    {
     "data": {
      "text/plain": [
       "805"
      ]
     },
     "execution_count": 2,
     "metadata": {},
     "output_type": "execute_result"
    }
   ],
   "source": [
    "len(json_data)"
   ]
  }
 ],
 "metadata": {
  "kernelspec": {
   "display_name": "llava",
   "language": "python",
   "name": "python3"
  },
  "language_info": {
   "codemirror_mode": {
    "name": "ipython",
    "version": 3
   },
   "file_extension": ".py",
   "mimetype": "text/x-python",
   "name": "python",
   "nbconvert_exporter": "python",
   "pygments_lexer": "ipython3",
   "version": "3.10.12"
  }
 },
 "nbformat": 4,
 "nbformat_minor": 2
}
