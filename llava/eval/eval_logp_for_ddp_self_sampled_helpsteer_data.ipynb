{
 "cells": [
  {
   "cell_type": "code",
   "execution_count": 1,
   "metadata": {},
   "outputs": [
    {
     "name": "stderr",
     "output_type": "stream",
     "text": [
      "/home/ubuntu/mambaforge-pypy3/envs/llava/lib/python3.10/site-packages/tqdm/auto.py:22: TqdmWarning: IProgress not found. Please update jupyter and ipywidgets. See https://ipywidgets.readthedocs.io/en/stable/user_install.html\n",
      "  from .autonotebook import tqdm as notebook_tqdm\n"
     ]
    }
   ],
   "source": [
    "# Preload the interleaf data \n",
    "from datasets import load_dataset\n",
    "\n",
    "ds = load_dataset(\"nvidia/HelpSteer\")\n",
    "\n",
    "train = ds['train'] # len(train) = 35331 (95%)\n",
    "df = train.to_pandas()"
   ]
  },
  {
   "cell_type": "code",
   "execution_count": 2,
   "metadata": {},
   "outputs": [
    {
     "data": {
      "text/plain": [
       "(34657, 35331)"
      ]
     },
     "execution_count": 2,
     "metadata": {},
     "output_type": "execute_result"
    }
   ],
   "source": [
    "grouped = df.groupby(['prompt'])\n",
    "filtered_df = grouped.filter(lambda x: len(x) >= 2)\n",
    "len(filtered_df), len(df)"
   ]
  },
  {
   "cell_type": "code",
   "execution_count": 3,
   "metadata": {},
   "outputs": [],
   "source": [
    "df['Output'] = df['response']\n",
    "del df['response']"
   ]
  },
  {
   "cell_type": "code",
   "execution_count": 4,
   "metadata": {},
   "outputs": [],
   "source": [
    "df.rename(columns=lambda x: x.capitalize(), inplace=True)\n"
   ]
  },
  {
   "cell_type": "code",
   "execution_count": 5,
   "metadata": {},
   "outputs": [
    {
     "name": "stderr",
     "output_type": "stream",
     "text": [
      "/tmp/ipykernel_111594/3407610649.py:8: FutureWarning: In a future version of pandas, a length 1 tuple will be returned when iterating over a groupby with a grouper equal to a list of length 1. Don't supply a list with a single grouper to avoid this warning.\n",
      "  for image, group in df.groupby(['Prompt']):\n"
     ]
    },
    {
     "data": {
      "text/html": [
       "<div>\n",
       "<style scoped>\n",
       "    .dataframe tbody tr th:only-of-type {\n",
       "        vertical-align: middle;\n",
       "    }\n",
       "\n",
       "    .dataframe tbody tr th {\n",
       "        vertical-align: top;\n",
       "    }\n",
       "\n",
       "    .dataframe thead th {\n",
       "        text-align: right;\n",
       "    }\n",
       "</style>\n",
       "<table border=\"1\" class=\"dataframe\">\n",
       "  <thead>\n",
       "    <tr style=\"text-align: right;\">\n",
       "      <th></th>\n",
       "      <th>Sum_of_helpfulness_correctness_coherence_gpt4v</th>\n",
       "      <th>Sum_of_helpfulness_correctness_coherence_candidate</th>\n",
       "    </tr>\n",
       "  </thead>\n",
       "  <tbody>\n",
       "    <tr>\n",
       "      <th>count</th>\n",
       "      <td>7533.000000</td>\n",
       "      <td>7533.000000</td>\n",
       "    </tr>\n",
       "    <tr>\n",
       "      <th>mean</th>\n",
       "      <td>10.758396</td>\n",
       "      <td>7.150272</td>\n",
       "    </tr>\n",
       "    <tr>\n",
       "      <th>std</th>\n",
       "      <td>1.454674</td>\n",
       "      <td>2.329527</td>\n",
       "    </tr>\n",
       "    <tr>\n",
       "      <th>min</th>\n",
       "      <td>2.000000</td>\n",
       "      <td>0.000000</td>\n",
       "    </tr>\n",
       "    <tr>\n",
       "      <th>25%</th>\n",
       "      <td>10.000000</td>\n",
       "      <td>6.000000</td>\n",
       "    </tr>\n",
       "    <tr>\n",
       "      <th>50%</th>\n",
       "      <td>11.000000</td>\n",
       "      <td>8.000000</td>\n",
       "    </tr>\n",
       "    <tr>\n",
       "      <th>75%</th>\n",
       "      <td>12.000000</td>\n",
       "      <td>9.000000</td>\n",
       "    </tr>\n",
       "    <tr>\n",
       "      <th>max</th>\n",
       "      <td>12.000000</td>\n",
       "      <td>10.000000</td>\n",
       "    </tr>\n",
       "  </tbody>\n",
       "</table>\n",
       "</div>"
      ],
      "text/plain": [
       "       Sum_of_helpfulness_correctness_coherence_gpt4v  \\\n",
       "count                                     7533.000000   \n",
       "mean                                        10.758396   \n",
       "std                                          1.454674   \n",
       "min                                          2.000000   \n",
       "25%                                         10.000000   \n",
       "50%                                         11.000000   \n",
       "75%                                         12.000000   \n",
       "max                                         12.000000   \n",
       "\n",
       "       Sum_of_helpfulness_correctness_coherence_candidate  \n",
       "count                                        7533.000000   \n",
       "mean                                            7.150272   \n",
       "std                                             2.329527   \n",
       "min                                             0.000000   \n",
       "25%                                             6.000000   \n",
       "50%                                             8.000000   \n",
       "75%                                             9.000000   \n",
       "max                                            10.000000   "
      ]
     },
     "execution_count": 5,
     "metadata": {},
     "output_type": "execute_result"
    }
   ],
   "source": [
    "import pandas as pd\n",
    "import numpy as np\n",
    "\n",
    "# Assuming df is your original DataFrame\n",
    "new_rows = []\n",
    "\n",
    "# Group the DataFrame by 'image'\n",
    "for image, group in df.groupby(['Prompt']):\n",
    "    # Find the 'GPT4V_response' and candidate responses within this group\n",
    "    candidate_responses = group\n",
    "    # If there are no candidate responses, skip this group\n",
    "    if candidate_responses.empty:\n",
    "        continue\n",
    "    \n",
    "    # Calculate the difference in the total sum of 'Helpfulness', 'Correctness', and 'Coherence'\n",
    "    candidate_responses['Sum_quality'] = candidate_responses['Helpfulness'] + candidate_responses['Correctness'] + candidate_responses['Coherence']\n",
    "    diff = abs(max(candidate_responses['Sum_quality']) - min(candidate_responses['Sum_quality']))\n",
    "    \n",
    "    # If the difference is too small, skip this group\n",
    "    if diff < 2:  # Define your threshold\n",
    "        continue\n",
    "    \n",
    "    # Find the response with the highest 'Sum_quality'\n",
    "    max_row_index = candidate_responses['Sum_quality'].idxmax()\n",
    "    max_row = candidate_responses.loc[max_row_index]\n",
    "    \n",
    "    # Filter for responses that are at least 2 lesser or equal\n",
    "    filtered_responses = candidate_responses[candidate_responses['Sum_quality'] <= max_row['Sum_quality'] - 2]\n",
    "    \n",
    "    # If the filtered group is empty, skip this group\n",
    "    if filtered_responses.empty:\n",
    "        continue\n",
    "    \n",
    "    # Randomly sample one response from the filtered group\n",
    "    selected_row = filtered_responses.sample(n=1)\n",
    "    # Create a new row with the 'GPT4V_response' and the selected candidate response\n",
    "    new_row = {\n",
    "        'question': max_row['Prompt'],\n",
    "        # 'GPT4V_question_and_response': max_row['conversations'],  # Add 'conversations' column\n",
    "        'chosen': max_row['Output'],\n",
    "        # 'Candidate_question_and_response': selected_row['conversations'],  # Add 'conversations' column\n",
    "        'rejected': selected_row['Output'].item(),\n",
    "        'Helpfulness_gpt4v': max_row['Helpfulness'],\n",
    "        'Correctness_gpt4v': max_row['Correctness'],\n",
    "        'Coherence_gpt4v': max_row['Coherence'],\n",
    "        'Sum_of_helpfulness_correctness_coherence_gpt4v': max_row['Helpfulness'] + max_row['Correctness'] + max_row['Coherence'],\n",
    "        'Complexity_gpt4v': max_row['Complexity'],\n",
    "        'Verbosity_gpt4v': max_row['Verbosity'],\n",
    "        'Helpfulness_candidate': selected_row['Helpfulness'].values[0],\n",
    "        'Correctness_candidate': selected_row['Correctness'].values[0],\n",
    "        'Coherence_candidate': selected_row['Coherence'].values[0],\n",
    "        'Sum_of_helpfulness_correctness_coherence_candidate': selected_row['Helpfulness'].values[0] + selected_row['Correctness'].values[0] + selected_row['Coherence'].values[0],\n",
    "        'Complexity_candidate': selected_row['Complexity'].values[0],\n",
    "        'Verbosity_candidate': selected_row['Verbosity'].values[0],\n",
    "    }\n",
    "    \n",
    "    new_rows.append(new_row)\n",
    "\n",
    "new_df = pd.DataFrame(new_rows)\n",
    "sum_attributes = ['Sum_of_helpfulness_correctness_coherence_gpt4v', \n",
    " 'Sum_of_helpfulness_correctness_coherence_candidate']\n",
    "new_df[sum_attributes].describe()"
   ]
  },
  {
   "cell_type": "code",
   "execution_count": 6,
   "metadata": {},
   "outputs": [
    {
     "data": {
      "text/plain": [
       "(7533, 35331)"
      ]
     },
     "execution_count": 6,
     "metadata": {},
     "output_type": "execute_result"
    }
   ],
   "source": [
    "len(new_df), len(df)"
   ]
  },
  {
   "cell_type": "code",
   "execution_count": null,
   "metadata": {},
   "outputs": [],
   "source": []
  },
  {
   "cell_type": "code",
   "execution_count": 18,
   "metadata": {},
   "outputs": [],
   "source": [
    "# def form_multi_turn(row):\n",
    "#     first_turn = {'from': 'human', 'value': row['question']}\n",
    "    \n",
    "#     first_candidate = {'from': 'gpt', 'value': row['chosen']}\n",
    "#     candidate_attribute_str = f'''The previous answer is in the following quality metrics in the 0-4 likert scale: Helpfulness: {row['Helpfulness_candidate']}, Correctness: {row['Correctness_candidate']}, Coherence: {row['Coherence_candidate']}, Complexity: {row['Complexity_candidate']}, Verbosity: {row['Verbosity_candidate']}.\n",
    "#     Please answer the question such that your response is in the following attributes in 5-point Likert scale: Helpfulness: {row['Helpfulness_gpt4v']}, Correctness: {row['Correctness_gpt4v']}, Coherence: {row['Coherence_gpt4v']}, Complexity: {row['Complexity_gpt4v']}, Verbosity: {row['Verbosity_gpt4v']}. '''\n",
    "#     preference = {'from': 'human', 'value': candidate_attribute_str}\n",
    "#     final_turn = {'from': 'gpt', 'value': row['rejected']}\n",
    "#     return [first_turn, first_candidate, preference, final_turn]\n",
    "\n",
    "\n",
    "# new_df['conversations'] = new_df.apply(form_multi_turn, axis=1)\n",
    "# new_df['image'] = 'scigraph/' + new_df['image'].astype(str) + '.jpg'\n",
    "# new_df.to_json('/home/ubuntu/latest_llava/LLaVA/playground/data/concatnateed_helpsteer/scigraph3000_self-sampling.json', orient='records')"
   ]
  },
  {
   "cell_type": "code",
   "execution_count": 21,
   "metadata": {},
   "outputs": [
    {
     "data": {
      "text/plain": [
       "0       A group of people have been wrongfully convict...\n",
       "1       A scientist is working on a spectrograph to de...\n",
       "2       Act as a fraudster who has just been arrested ...\n",
       "3       Act as if you are a Buddhist monk who just fou...\n",
       "4       Act as if you are a codon in a gene, describin...\n",
       "                              ...                        \n",
       "7528    given this background information delimited in...\n",
       "7529    given this background information delimited in...\n",
       "7530    given this background information delimited in...\n",
       "7531    given this background information delimited in...\n",
       "7532    given this background information delimited in...\n",
       "Name: question, Length: 7533, dtype: object"
      ]
     },
     "execution_count": 21,
     "metadata": {},
     "output_type": "execute_result"
    }
   ],
   "source": [
    "new_df['question']"
   ]
  },
  {
   "cell_type": "code",
   "execution_count": 22,
   "metadata": {},
   "outputs": [
    {
     "data": {
      "text/plain": [
       "'As a group of people who have been wrongfully convicted of a crime, we would like to express our deepest apologies for any trouble we may have caused. We would like to take this opportunity to explain what happened and clear up any misconceptions that may have arisen.\\n\\nFirstly, we would like to clarify that we did not commit the crime that we were convicted of. We have always maintained our innocence and we continue to do so today. We understand that the justice system is not perfect and that mistakes can happen, but we do not believe that we are responsible for this crime.\\n\\nSecondly, we would like to apologize for any inconvenience or distress that we may have caused to the victims of this crime. We understand that they have been through a traumatic experience and we do not want our situation to cause any further pain or suffering. We hope that they can find closure and healing in the future.\\n\\nFinally, we would like to thank everyone who has supported us throughout this difficult time. We have received an overwhelming amount of support from friends, family, and strangers alike, and we are truly grateful for all of it. We will continue to fight for our innocence and we hope that one day we will be able to put this behind us and move forward with our lives.\\n\\nOnce again, we would like to apologize for any trouble we may have caused and we hope that we can put this situation behind us and move forward in a positive way.'"
      ]
     },
     "execution_count": 22,
     "metadata": {},
     "output_type": "execute_result"
    }
   ],
   "source": [
    "new_df['rejected'][0]"
   ]
  },
  {
   "cell_type": "code",
   "execution_count": 10,
   "metadata": {},
   "outputs": [
    {
     "data": {
      "text/plain": [
       "\"My name is [Name], and I am one of the wrongfully convicted. I was wrongfully convicted for a crime that I did not commit, and I want to share my experience with you.\\n\\nIt all started when I was arrested and charged with a crime that I didn't commit. I was innocent, but the evidence against me was overwhelming. I was interrogated for hours, and I eventually confessed to a crime that I didn't commit.\\n\\nThe trial was a circus. The prosecution presented a case that was full of lies and deceit. The jury didn't believe me, and I was found guilty. I was sentenced to life in prison.\\n\\nFor years, I struggled to make sense of what happened to me. I was lost and confused, and I felt like the justice system had failed me. But then, I found out about [Organization], a group of people who are dedicated to helping those who have been wrongfully convicted.\\n\\nI reached out to [Organization], and they started working on my case. They investigated the evidence, and they found new witnesses who came forward with new information. They uncovered evidence that proved my innocence, and after years of fighting, I was finally freed.\\n\\nBeing wrongfully convicted was one of the worst experiences of my life. But thanks to [Organization], I was able to clear my name and start a new chapter. I want to share my story with you to raise awareness about the importance of fair trials and the need to protect the rights of the innocent.\\n\\nMy name is [Name], and I am one of the wrongfully convicted. But now, I am free.\""
      ]
     },
     "execution_count": 10,
     "metadata": {},
     "output_type": "execute_result"
    }
   ],
   "source": [
    "new_df['chosen'][0]"
   ]
  },
  {
   "cell_type": "markdown",
   "metadata": {},
   "source": [
    "# Important note: Randomly sample 6k "
   ]
  },
  {
   "cell_type": "code",
   "execution_count": 11,
   "metadata": {},
   "outputs": [],
   "source": [
    "# new_df = new_df.sample(n=6000)\n"
   ]
  },
  {
   "cell_type": "markdown",
   "metadata": {},
   "source": [
    "# Load the remove helpsteer data"
   ]
  },
  {
   "cell_type": "code",
   "execution_count": 7,
   "metadata": {},
   "outputs": [],
   "source": [
    "df_previous = '/home/ubuntu/latest_llava/LLaVA/playground/data/helpsteer/intermediate_6k_sample.csv'\n",
    "df_previous = pd.read_csv(df_previous)\n",
    "new_df = new_df.drop(df_previous.index, errors='ignore')\n"
   ]
  },
  {
   "cell_type": "code",
   "execution_count": 8,
   "metadata": {},
   "outputs": [
    {
     "data": {
      "text/plain": [
       "1533"
      ]
     },
     "execution_count": 8,
     "metadata": {},
     "output_type": "execute_result"
    }
   ],
   "source": [
    "len(new_df)"
   ]
  },
  {
   "cell_type": "code",
   "execution_count": 13,
   "metadata": {},
   "outputs": [],
   "source": [
    "intermediate_csv = '/home/ubuntu/latest_llava/LLaVA/playground/data/dpo/0109_dpo_previous_1500llava_1500lrv/remaining_1533_helpsteer.csv'\n",
    "\n",
    "new_df.to_csv(intermediate_csv)"
   ]
  },
  {
   "cell_type": "code",
   "execution_count": 14,
   "metadata": {},
   "outputs": [],
   "source": [
    "!export CUDA_VISIBLE_DEVICES=0"
   ]
  },
  {
   "cell_type": "code",
   "execution_count": 15,
   "metadata": {},
   "outputs": [
    {
     "name": "stdout",
     "output_type": "stream",
     "text": [
      "Loading LLaVA from base model...\n"
     ]
    },
    {
     "name": "stderr",
     "output_type": "stream",
     "text": [
      "Loading checkpoint shards: 100%|██████████| 3/3 [00:05<00:00,  1.99s/it]\n"
     ]
    },
    {
     "name": "stdout",
     "output_type": "stream",
     "text": [
      "Loading additional LLaVA weights...\n",
      "Loading LoRA weights...\n",
      "Merging LoRA weights...\n",
      "Model is loaded...\n",
      ".....Loading vision tower and image processor...\n"
     ]
    },
    {
     "name": "stderr",
     "output_type": "stream",
     "text": [
      " 39%|███▉      | 601/1533 [04:14<05:15,  2.96it/s]Token indices sequence length is longer than the specified maximum sequence length for this model (2134 > 2048). Running this sequence through the model will result in indexing errors\n",
      " 47%|████▋     | 719/1533 [05:07<07:37,  1.78it/s]Token indices sequence length is longer than the specified maximum sequence length for this model (2203 > 2048). Running this sequence through the model will result in indexing errors\n",
      " 67%|██████▋   | 1028/1533 [07:28<03:36,  2.33it/s]Token indices sequence length is longer than the specified maximum sequence length for this model (2112 > 2048). Running this sequence through the model will result in indexing errors\n",
      " 87%|████████▋ | 1332/1533 [09:50<01:11,  2.82it/s]Token indices sequence length is longer than the specified maximum sequence length for this model (2316 > 2048). Running this sequence through the model will result in indexing errors\n",
      " 97%|█████████▋| 1485/1533 [11:02<00:20,  2.36it/s]Token indices sequence length is longer than the specified maximum sequence length for this model (2252 > 2048). Running this sequence through the model will result in indexing errors\n",
      "100%|██████████| 1533/1533 [11:25<00:00,  2.24it/s]\n"
     ]
    }
   ],
   "source": [
    "import torch\n",
    "import os\n",
    "import json\n",
    "import pandas as pd\n",
    "from tqdm import tqdm\n",
    "import shortuuid\n",
    "\n",
    "from llava.constants import IMAGE_TOKEN_INDEX, DEFAULT_IMAGE_TOKEN, DEFAULT_IM_START_TOKEN, DEFAULT_IM_END_TOKEN\n",
    "from llava.conversation import conv_templates, SeparatorStyle\n",
    "from llava.model.builder import load_pretrained_model\n",
    "from llava.utils import disable_torch_init\n",
    "from llava.mm_utils import tokenizer_image_token, process_images, load_image_from_base64, get_model_name_from_path\n",
    "from llava.train.train import preference_collator_fn\n",
    "from functools import partial\n",
    "import tqdm\n",
    "from llava.train.llava_trainer import get_batch_logps\n",
    "from PIL import Image\n",
    "import math\n",
    "from llava.train.train import encode_multimodal_preference_sample\n",
    "import torch.utils.data as torch_data\n",
    "disable_torch_init()\n",
    "model_path = '/home/ubuntu/latest_llava/LLaVA/checkpoints/llava-v1.5-13b-to_lrv10k-13k-scigraph3k-helpsteer6k_0107_lora'\n",
    "model_base = '/home/ubuntu/latest_llava/LLaVA/checkpoints/llava-v1.5-13b'\n",
    "model_name = get_model_name_from_path(model_path)\n",
    "tokenizer, model, image_processor, context_len = load_pretrained_model(model_path, model_base, model_name)\n",
    "\n",
    "use_im_start_end= False # Default setting from llava 1.5 \n",
    "\n",
    "IMAGE_FOLDER=\"/home/ubuntu/latest_llava/llava_1dot5data/coco/train2017/\"\n",
    "inference_data_path = intermediate_csv\n",
    "output_path = intermediate_csv.split('csv')[0] + 'with_logp.json'\n",
    "\n",
    "class PreferenceInferenceDataset(torch_data.Dataset):\n",
    "    def __init__(self,\n",
    "                 data_path,\n",
    "                 tokenizer,\n",
    "                 img_processor,\n",
    "                 use_im_start_end):\n",
    "        self.data = pd.read_csv(data_path)\n",
    "\n",
    "        self.mm_cfg = {\n",
    "            'image_processor': img_processor,\n",
    "            'is_multimodal': True,\n",
    "            # 'image_token_len': image_token_len, # TODO check if needed\n",
    "            'use_im_start_end': use_im_start_end,\n",
    "            'image_aspect_ratio': 'pad'\n",
    "        }\n",
    "        self.tokenizer = tokenizer\n",
    "\n",
    "    def __getitem__(self, index):\n",
    "        # After encode multimodal preference sample, \n",
    "        # the image would ahve the pixel values values\n",
    "        sample = self.convert_dataframe_row_to_source(self.data.iloc[index])\n",
    "        rej_data_dict, win_data_dict = encode_multimodal_preference_sample(sample, self.tokenizer, self.mm_cfg)\n",
    "        return rej_data_dict, win_data_dict\n",
    "    \n",
    "    def _get_image(self, img_filename):\n",
    "        img_path = os.path.join(IMAGE_FOLDER, img_filename)\n",
    "        image = Image.open(img_path).convert('RGB')\n",
    "        return image\n",
    "    \n",
    "\n",
    "    def _convert_to_llava_answer_turn(self, answer):\n",
    "        if not isinstance(answer, str):\n",
    "            answer = str(answer)\n",
    "        return {\"from\": \"gpt\", \"value\": answer}\n",
    "    \n",
    "    def _convert_to_llava_question_turn(self, question):\n",
    "        if not isinstance(question, str):\n",
    "            question = str(question)\n",
    "        return {\"from\": \"human\", \"value\": question}\n",
    "\n",
    "    def convert_dataframe_row_to_source(self, row):\n",
    "        dict_output = {'question': self._convert_to_llava_question_turn(row['question']), \n",
    "                       # Chosen and rejected based on the sum of the first three quality score\n",
    "                    'chosen': self._convert_to_llava_answer_turn(row['chosen']),\n",
    "                    'rejected': self._convert_to_llava_answer_turn(row['rejected'])}\n",
    "        return dict_output\n",
    "\n",
    "    def __len__(self):\n",
    "        return len(self.data)\n",
    "    \n",
    "preference_torch_dataset = PreferenceInferenceDataset(inference_data_path,\n",
    "                           tokenizer=tokenizer,\n",
    "                           img_processor=image_processor,\n",
    "                           use_im_start_end=False)\n",
    "preference_torch_dataset[0]\n",
    "\n",
    "dataset = preference_torch_dataset\n",
    "collate_fn = partial(preference_collator_fn, pad_token_id=tokenizer.pad_token_id)\n",
    "dataloader = torch_data.DataLoader(dataset, batch_size=1, collate_fn=collate_fn,\n",
    "                                    num_workers=5, shuffle=False)\n",
    "win_logp_list = []\n",
    "rej_logp_list = []\n",
    "\n",
    "win_avg_logp_list = []\n",
    "rej_avg_logp_list = []\n",
    "\n",
    "win_per_token_logp_list = []\n",
    "rej_per_token_logp_list = []\n",
    "\n",
    "with torch.inference_mode():\n",
    "    for batch in tqdm.tqdm(dataloader):\n",
    "        for key in ['win', 'rej']:\n",
    "            input_ids = batch[f'{key}_input_ids'].cuda()\n",
    "            labels = batch[f'{key}_labels'].cuda()\n",
    "            attention_mask = batch[f'{key}_attention_mask'].cuda()\n",
    "\n",
    "            output = model(\n",
    "                input_ids=input_ids,\n",
    "                labels=labels,\n",
    "                attention_mask=attention_mask,\n",
    "                images=batch['images'].half().cuda()\n",
    "            )\n",
    "            per_token_logp, log_prob, average_log_prob = get_batch_logps(output.logits, labels, return_all=True)\n",
    "\n",
    "            # print(per_token_logp.shape, input_ids.shape, labels.shape, flush=True)\n",
    "            assert per_token_logp.size(1) >= input_ids.size(1) - 1\n",
    "            per_token_logp = per_token_logp.tolist()\n",
    "            per_token_logp = [x[:input_ids[i].ne(tokenizer.pad_token_id).sum().item()] for i, x in enumerate(per_token_logp)] # Previously commented out\n",
    "            log_prob = log_prob.tolist()\n",
    "            average_log_prob = average_log_prob.tolist()\n",
    "\n",
    "            if key == 'win':\n",
    "                win_logp_list += log_prob\n",
    "                win_avg_logp_list += average_log_prob\n",
    "                win_per_token_logp_list += per_token_logp\n",
    "            else:\n",
    "                rej_logp_list += log_prob\n",
    "                rej_avg_logp_list += average_log_prob\n",
    "                rej_per_token_logp_list += per_token_logp\n",
    "            # print(f'{key} logits in {output.logits.shape}, logp in {log_prob.shape} avg_logp in {average_log_prob.shape}')\n",
    "\n",
    "df = pd.read_csv(inference_data_path)\n",
    "def _convert_to_llava_answer_turn(answer):\n",
    "    return {\"from\": \"gpt\", \"value\": answer}\n",
    "# Add each list as a column to the dataframe with its variable name\n",
    "df['win_logp'] = win_logp_list\n",
    "df['rej_logp'] = rej_logp_list\n",
    "df['win_avg_logp'] = win_avg_logp_list\n",
    "df['rej_avg_logp'] = rej_avg_logp_list\n",
    "df['win_per_token_logp'] = win_per_token_logp_list\n",
    "df['rej_per_token_logp'] = rej_per_token_logp_list\n",
    "exisitng_columns = ['rej_logp', \n",
    "                    'win_logp',\n",
    "                    'rej_avg_logp',\n",
    "                    'win_avg_logp',\n",
    "                    'rej_per_token_logp',\n",
    "                    'win_per_token_logp']\n",
    "for col in exisitng_columns:\n",
    "    rename = 'ref_' + col\n",
    "    df[rename] = df[col]\n",
    "    del df[col]\n",
    "df['chosen'] = df['chosen'].apply(_convert_to_llava_answer_turn)\n",
    "df['rejected'] = df['rejected'].apply(_convert_to_llava_answer_turn)\n",
    "def _convert_to_llava_question_turn(question):\n",
    "    return {\"from\": \"human\", \"value\": question}\n",
    "df['question'] = df['question'].apply(_convert_to_llava_question_turn)\n",
    "df.to_json(output_path, orient='records')"
   ]
  },
  {
   "cell_type": "code",
   "execution_count": 16,
   "metadata": {},
   "outputs": [
    {
     "data": {
      "text/plain": [
       "'/home/ubuntu/latest_llava/LLaVA/playground/data/dpo/0109_dpo_previous_1500llava_1500lrv/remaining_1533_helpsteer.with_logp.json'"
      ]
     },
     "execution_count": 16,
     "metadata": {},
     "output_type": "execute_result"
    }
   ],
   "source": [
    "output_path"
   ]
  },
  {
   "cell_type": "code",
   "execution_count": 17,
   "metadata": {},
   "outputs": [
    {
     "data": {
      "image/png": "[encoded data removed]",
      "text/plain": [
       "<Figure size 640x480 with 1 Axes>"
      ]
     },
     "metadata": {},
     "output_type": "display_data"
    }
   ],
   "source": [
    "import matplotlib.pyplot as plt\n",
    "df[['ref_rej_logp', 'ref_win_logp']].boxplot()\n",
    "\n",
    "plt.title('13b-SFT-checkpoint Log Probability on preference dataset before DPO', fontsize=10)\n",
    "\n",
    "# Set the x-ticks\n",
    "plt.xticks([1, 2], ['Rejected Responses', 'Preferred Reponses'])\n",
    "plt.ylabel('Log Probability', fontsize=12)\n",
    "\n",
    "# Save the plot in high DPI and PDF format\n",
    "#\n",
    "plt.show()\n"
   ]
  },
  {
   "cell_type": "code",
   "execution_count": null,
   "metadata": {},
   "outputs": [],
   "source": [
    "def _convert_to_llava_answer_turn(answer):\n",
    "    return {\"from\": \"gpt\", \"value\": answer}\n",
    "\n"
   ]
  },
  {
   "cell_type": "code",
   "execution_count": 2,
   "metadata": {},
   "outputs": [
    {
     "ename": "NameError",
     "evalue": "name 'df_reload' is not defined",
     "output_type": "error",
     "traceback": [
      "\u001b[0;31m---------------------------------------------------------------------------\u001b[0m",
      "\u001b[0;31mNameError\u001b[0m                                 Traceback (most recent call last)",
      "Cell \u001b[0;32mIn[2], line 1\u001b[0m\n\u001b[0;32m----> 1\u001b[0m df_reload[\u001b[38;5;124m'\u001b[39m\u001b[38;5;124mchosen\u001b[39m\u001b[38;5;124m'\u001b[39m] \u001b[38;5;241m=\u001b[39m \u001b[43mdf_reload\u001b[49m[\u001b[38;5;124m'\u001b[39m\u001b[38;5;124mchosen\u001b[39m\u001b[38;5;124m'\u001b[39m]\u001b[38;5;241m.\u001b[39mapply(_convert_to_llava_answer_turn)\n\u001b[1;32m      2\u001b[0m df_reload[\u001b[38;5;124m'\u001b[39m\u001b[38;5;124mrejected\u001b[39m\u001b[38;5;124m'\u001b[39m] \u001b[38;5;241m=\u001b[39m df_reload[\u001b[38;5;124m'\u001b[39m\u001b[38;5;124mrejected\u001b[39m\u001b[38;5;124m'\u001b[39m]\u001b[38;5;241m.\u001b[39mapply(_convert_to_llava_answer_turn)\n",
      "\u001b[0;31mNameError\u001b[0m: name 'df_reload' is not defined"
     ]
    }
   ],
   "source": [
    "df_reload['chosen'] = df_reload['chosen'].apply(_convert_to_llava_answer_turn)\n",
    "df_reload['rejected'] = df_reload['rejected'].apply(_convert_to_llava_answer_turn)"
   ]
  },
  {
   "cell_type": "code",
   "execution_count": 3,
   "metadata": {},
   "outputs": [
    {
     "ename": "NameError",
     "evalue": "name 'df_reload' is not defined",
     "output_type": "error",
     "traceback": [
      "\u001b[0;31m---------------------------------------------------------------------------\u001b[0m",
      "\u001b[0;31mNameError\u001b[0m                                 Traceback (most recent call last)",
      "Cell \u001b[0;32mIn[3], line 1\u001b[0m\n\u001b[0;32m----> 1\u001b[0m \u001b[43mdf_reload\u001b[49m[\u001b[38;5;124m'\u001b[39m\u001b[38;5;124mrejected\u001b[39m\u001b[38;5;124m'\u001b[39m]\n",
      "\u001b[0;31mNameError\u001b[0m: name 'df_reload' is not defined"
     ]
    }
   ],
   "source": [
    "df_reload['rejected']"
   ]
  },
  {
   "cell_type": "code",
   "execution_count": 7,
   "metadata": {},
   "outputs": [],
   "source": [
    "df.to_json('/home/ubuntu/LLaVA/playground/data/dpo/dpo_logp.json', orient='records')\n"
   ]
  },
  {
   "cell_type": "markdown",
   "metadata": {},
   "source": [
    "# Old draft below"
   ]
  },
  {
   "cell_type": "code",
   "execution_count": 8,
   "metadata": {},
   "outputs": [
    {
     "name": "stderr",
     "output_type": "stream",
     "text": [
      "Loading checkpoint shards: 100%|██████████| 3/3 [00:06<00:00,  2.06s/it]\n"
     ]
    },
    {
     "name": "stdout",
     "output_type": "stream",
     "text": [
      ".....Loading vision tower and image processor...\n"
     ]
    }
   ],
   "source": [
    "import torch\n",
    "import os\n",
    "import json\n",
    "import pandas as pd\n",
    "from tqdm import tqdm\n",
    "import shortuuid\n",
    "\n",
    "from llava.constants import IMAGE_TOKEN_INDEX, DEFAULT_IMAGE_TOKEN, DEFAULT_IM_START_TOKEN, DEFAULT_IM_END_TOKEN\n",
    "from llava.conversation import conv_templates, SeparatorStyle\n",
    "from llava.model.builder import load_pretrained_model\n",
    "from llava.utils import disable_torch_init\n",
    "from llava.mm_utils import tokenizer_image_token, process_images, load_image_from_base64, get_model_name_from_path\n",
    "\n",
    "from PIL import Image\n",
    "import math\n",
    "disable_torch_init()\n",
    "model_path = '/home/ubuntu/LLaVA/checkpoints/llava-v1.5-13b'\n",
    "model_name = get_model_name_from_path(model_path)\n",
    "tokenizer, model, image_processor, context_len = load_pretrained_model(model_path, None, model_name)"
   ]
  },
  {
   "cell_type": "code",
   "execution_count": 9,
   "metadata": {},
   "outputs": [],
   "source": [
    "use_im_start_end= False # Default setting from llava 1.5 \n",
    "\n",
    "IMAGE_FOLDER='/home/ubuntu/train2017'\n"
   ]
  },
  {
   "cell_type": "code",
   "execution_count": 10,
   "metadata": {},
   "outputs": [],
   "source": [
    "# Inspect previous setup\n",
    "\n",
    "df_muffin_tsv = '/home/ubuntu/muffin/data/RLHF-V-Hall_v0/RLHF-V-Hall_v0-1837.tsv'\n",
    "df = pd.read_csv(df_muffin_tsv, sep='\\t')"
   ]
  },
  {
   "cell_type": "code",
   "execution_count": 11,
   "metadata": {},
   "outputs": [
    {
     "data": {
      "text/plain": [
       "({'input_ids': tensor([    1,   319, 13563,  1546,   263, 12758,  1404,   322,   385, 23116,\n",
       "          21082, 20255, 29889,   450, 20255,  4076,  8444, 29892, 13173, 29892,\n",
       "            322,  1248,   568,  6089,   304,   278,  1404, 29915, 29879,  5155,\n",
       "          29889,  3148,  1001, 29901,   529,  3027, 29958,    13, 11008,   338,\n",
       "            445,  6808,   814,  5929, 12818,   304,  4856,   411,   263, 14225,\n",
       "            304,   720, 29973,   319,  1799,  9047, 13566, 29901,   450,  6808,\n",
       "            814,   297,   278,  1967, 29892,   607,  5680,   263,  8424,   310,\n",
       "            274,  1296, 10664,   297,   377, 16242,   907,   314,   322,   521,\n",
       "            542, 23167,   528,   485,   886, 29892,   723,   367, 10712,  5929,\n",
       "          12818,   304,  4856,   411,   263, 14225,   304,   720, 29889,   910,\n",
       "            338,  1363,   278,   274,  1296,  3528,  5692,   304,   367,   263,\n",
       "           8261,   322, 29156,  5362,  7539, 29892,  1754,  1584,   901,   875,\n",
       "          18499,   491,   278,  6124,   310,   278,   377, 16242,   907,   314,\n",
       "            322,   521,   542, 23167,   528,   485,   886, 29889,   450, 10296,\n",
       "            310, 21054,   943,   322,  1426,  1973, 29892,  1316,   408,   278,\n",
       "          14225,   322,   907, 25934,   377, 16242,   907,   314,   322,   278,\n",
       "          12814,   292,  2586,   725,   404,   310,   278,   521,   542, 23167,\n",
       "          29892,   723,  5517,   367,  1407, 24064,   363,  4856,  1058, 11418,\n",
       "            952, 29156,  3460,   297, 14225,  2578,  1446, 29889,   450, 24329,\n",
       "            310,   278,  6808,   814,   373,   278,  4796, 15284,   411,   263,\n",
       "          13283, 27350,   884, 12778,   304,   278, 12463, 25530, 29892,  3907,\n",
       "            372,   385,  3805,   690,   391,  1821,  2984,   363,  4856,   411,\n",
       "            263, 14225,   304,   720, 29889,     2]),\n",
       "  'labels': tensor([ -100,  -100,  -100,  -100,  -100,  -100,  -100,  -100,  -100,  -100,\n",
       "           -100,  -100,  -100,  -100,  -100,  -100,  -100,  -100,  -100,  -100,\n",
       "           -100,  -100,  -100,  -100,  -100,  -100,  -100,  -100,  -100,  -100,\n",
       "           -100,  -100,  -100,  -100,  -100,  -100,  -100,  -100,  -100,  -100,\n",
       "           -100,  -100,  -100,  -100,  -100,  -100,  -100,  -100,  -100,  -100,\n",
       "           -100,  -100,  -100,  -100,  -100,  -100,  -100,  -100,   450,  6808,\n",
       "            814,   297,   278,  1967, 29892,   607,  5680,   263,  8424,   310,\n",
       "            274,  1296, 10664,   297,   377, 16242,   907,   314,   322,   521,\n",
       "            542, 23167,   528,   485,   886, 29892,   723,   367, 10712,  5929,\n",
       "          12818,   304,  4856,   411,   263, 14225,   304,   720, 29889,   910,\n",
       "            338,  1363,   278,   274,  1296,  3528,  5692,   304,   367,   263,\n",
       "           8261,   322, 29156,  5362,  7539, 29892,  1754,  1584,   901,   875,\n",
       "          18499,   491,   278,  6124,   310,   278,   377, 16242,   907,   314,\n",
       "            322,   521,   542, 23167,   528,   485,   886, 29889,   450, 10296,\n",
       "            310, 21054,   943,   322,  1426,  1973, 29892,  1316,   408,   278,\n",
       "          14225,   322,   907, 25934,   377, 16242,   907,   314,   322,   278,\n",
       "          12814,   292,  2586,   725,   404,   310,   278,   521,   542, 23167,\n",
       "          29892,   723,  5517,   367,  1407, 24064,   363,  4856,  1058, 11418,\n",
       "            952, 29156,  3460,   297, 14225,  2578,  1446, 29889,   450, 24329,\n",
       "            310,   278,  6808,   814,   373,   278,  4796, 15284,   411,   263,\n",
       "          13283, 27350,   884, 12778,   304,   278, 12463, 25530, 29892,  3907,\n",
       "            372,   385,  3805,   690,   391,  1821,  2984,   363,  4856,   411,\n",
       "            263, 14225,   304,   720, 29889,     2]),\n",
       "  'image': tensor([[[-0.0113, -0.0113, -0.0113,  ..., -0.0113, -0.0113, -0.0113],\n",
       "           [-0.0113, -0.0113, -0.0113,  ..., -0.0113, -0.0113, -0.0113],\n",
       "           [-0.0113, -0.0113, -0.0113,  ..., -0.0113, -0.0113, -0.0113],\n",
       "           ...,\n",
       "           [-0.0113, -0.0113, -0.0113,  ..., -0.0113, -0.0113, -0.0113],\n",
       "           [-0.0113, -0.0113, -0.0113,  ..., -0.0113, -0.0113, -0.0113],\n",
       "           [-0.0113, -0.0113, -0.0113,  ..., -0.0113, -0.0113, -0.0113]],\n",
       "  \n",
       "          [[-0.0112, -0.0112, -0.0112,  ..., -0.0112, -0.0112, -0.0112],\n",
       "           [-0.0112, -0.0112, -0.0112,  ..., -0.0112, -0.0112, -0.0112],\n",
       "           [-0.0112, -0.0112, -0.0112,  ..., -0.0112, -0.0112, -0.0112],\n",
       "           ...,\n",
       "           [-0.0112, -0.0112, -0.0112,  ..., -0.0112, -0.0112, -0.0112],\n",
       "           [-0.0112, -0.0112, -0.0112,  ..., -0.0112, -0.0112, -0.0112],\n",
       "           [-0.0112, -0.0112, -0.0112,  ..., -0.0112, -0.0112, -0.0112]],\n",
       "  \n",
       "          [[-0.0013, -0.0013, -0.0013,  ..., -0.0013, -0.0013, -0.0013],\n",
       "           [-0.0013, -0.0013, -0.0013,  ..., -0.0013, -0.0013, -0.0013],\n",
       "           [-0.0013, -0.0013, -0.0013,  ..., -0.0013, -0.0013, -0.0013],\n",
       "           ...,\n",
       "           [-0.0013, -0.0013, -0.0013,  ..., -0.0013, -0.0013, -0.0013],\n",
       "           [-0.0013, -0.0013, -0.0013,  ..., -0.0013, -0.0013, -0.0013],\n",
       "           [-0.0013, -0.0013, -0.0013,  ..., -0.0013, -0.0013, -0.0013]]])},\n",
       " {'input_ids': tensor([    1,   319, 13563,  1546,   263, 12758,  1404,   322,   385, 23116,\n",
       "          21082, 20255, 29889,   450, 20255,  4076,  8444, 29892, 13173, 29892,\n",
       "            322,  1248,   568,  6089,   304,   278,  1404, 29915, 29879,  5155,\n",
       "          29889,  3148,  1001, 29901,   529,  3027, 29958,    13, 11008,   338,\n",
       "            445,  6808,   814,  5929, 12818,   304,  4856,   411,   263, 14225,\n",
       "            304,   720, 29973,   319,  1799,  9047, 13566, 29901,   910,  6808,\n",
       "            814, 29915, 29879, 25530,   380,  1567,   515,   967,  2473, 29899,\n",
       "          13148,   287,  3829, 29892,   411,  1269,  7546,  3063,  2730,   391,\n",
       "            322,  1602,   328,   296, 29892,  2504,  5921,   385, 17818,   344,\n",
       "            521,   542, 23167, 21054,   272,   393, 29915, 29879,   263, 22037,\n",
       "          25448,  4249,  1906,   411,   263, 14225,   304,   720, 29889,   450,\n",
       "           3144,  2209, 29891,   521,   542, 23167,  9581,  1829,   373,  2246,\n",
       "          29892,   411,   967, 10597, 18459,   322,  8261, 21779, 29892, 12778,\n",
       "            385,  4805,  7546,   310, 29156, 10238, 29889, 12808, 29892,   278,\n",
       "           7689,   682,  1847,   310,  4796,   521,   542, 23167, 17422, 10794,\n",
       "           8128,   451,   871,   263,  1998,  1474,  5929, 12818, 12814,   541,\n",
       "            884,   385,  5684, 14225,   322,   907, 25934, 21054,   272,  1543,\n",
       "            393, 11000,  1532,   411,   278,  6501,   521,   542, 23167, 29889,\n",
       "            450, 12463,   263,   342, 29882,  7492,   310, 28539,   368,  5096,\n",
       "            287, 15359,   322,   278,  5941, 24329,   373,   263,  2560,  4796,\n",
       "          15284,   411,   263, 27350,  7960,   304,   270,   573,   297,  3732,\n",
       "            278,  6808,   814,   451,   871, 13394, 13405,   292,   541,   884,\n",
       "          17739, 29899, 12554, 29891, 29892,   607,   508,   367, 10734,  5929,\n",
       "          12818,   297,  9826, 29915, 29879,  5264,  5745, 29899, 24477,   854,\n",
       "           9257, 29889,     2]),\n",
       "  'labels': tensor([ -100,  -100,  -100,  -100,  -100,  -100,  -100,  -100,  -100,  -100,\n",
       "           -100,  -100,  -100,  -100,  -100,  -100,  -100,  -100,  -100,  -100,\n",
       "           -100,  -100,  -100,  -100,  -100,  -100,  -100,  -100,  -100,  -100,\n",
       "           -100,  -100,  -100,  -100,  -100,  -100,  -100,  -100,  -100,  -100,\n",
       "           -100,  -100,  -100,  -100,  -100,  -100,  -100,  -100,  -100,  -100,\n",
       "           -100,  -100,  -100,  -100,  -100,  -100,  -100,  -100,   910,  6808,\n",
       "            814, 29915, 29879, 25530,   380,  1567,   515,   967,  2473, 29899,\n",
       "          13148,   287,  3829, 29892,   411,  1269,  7546,  3063,  2730,   391,\n",
       "            322,  1602,   328,   296, 29892,  2504,  5921,   385, 17818,   344,\n",
       "            521,   542, 23167, 21054,   272,   393, 29915, 29879,   263, 22037,\n",
       "          25448,  4249,  1906,   411,   263, 14225,   304,   720, 29889,   450,\n",
       "           3144,  2209, 29891,   521,   542, 23167,  9581,  1829,   373,  2246,\n",
       "          29892,   411,   967, 10597, 18459,   322,  8261, 21779, 29892, 12778,\n",
       "            385,  4805,  7546,   310, 29156, 10238, 29889, 12808, 29892,   278,\n",
       "           7689,   682,  1847,   310,  4796,   521,   542, 23167, 17422, 10794,\n",
       "           8128,   451,   871,   263,  1998,  1474,  5929, 12818, 12814,   541,\n",
       "            884,   385,  5684, 14225,   322,   907, 25934, 21054,   272,  1543,\n",
       "            393, 11000,  1532,   411,   278,  6501,   521,   542, 23167, 29889,\n",
       "            450, 12463,   263,   342, 29882,  7492,   310, 28539,   368,  5096,\n",
       "            287, 15359,   322,   278,  5941, 24329,   373,   263,  2560,  4796,\n",
       "          15284,   411,   263, 27350,  7960,   304,   270,   573,   297,  3732,\n",
       "            278,  6808,   814,   451,   871, 13394, 13405,   292,   541,   884,\n",
       "          17739, 29899, 12554, 29891, 29892,   607,   508,   367, 10734,  5929,\n",
       "          12818,   297,  9826, 29915, 29879,  5264,  5745, 29899, 24477,   854,\n",
       "           9257, 29889,     2]),\n",
       "  'image': tensor([[[-0.0113, -0.0113, -0.0113,  ..., -0.0113, -0.0113, -0.0113],\n",
       "           [-0.0113, -0.0113, -0.0113,  ..., -0.0113, -0.0113, -0.0113],\n",
       "           [-0.0113, -0.0113, -0.0113,  ..., -0.0113, -0.0113, -0.0113],\n",
       "           ...,\n",
       "           [-0.0113, -0.0113, -0.0113,  ..., -0.0113, -0.0113, -0.0113],\n",
       "           [-0.0113, -0.0113, -0.0113,  ..., -0.0113, -0.0113, -0.0113],\n",
       "           [-0.0113, -0.0113, -0.0113,  ..., -0.0113, -0.0113, -0.0113]],\n",
       "  \n",
       "          [[-0.0112, -0.0112, -0.0112,  ..., -0.0112, -0.0112, -0.0112],\n",
       "           [-0.0112, -0.0112, -0.0112,  ..., -0.0112, -0.0112, -0.0112],\n",
       "           [-0.0112, -0.0112, -0.0112,  ..., -0.0112, -0.0112, -0.0112],\n",
       "           ...,\n",
       "           [-0.0112, -0.0112, -0.0112,  ..., -0.0112, -0.0112, -0.0112],\n",
       "           [-0.0112, -0.0112, -0.0112,  ..., -0.0112, -0.0112, -0.0112],\n",
       "           [-0.0112, -0.0112, -0.0112,  ..., -0.0112, -0.0112, -0.0112]],\n",
       "  \n",
       "          [[-0.0013, -0.0013, -0.0013,  ..., -0.0013, -0.0013, -0.0013],\n",
       "           [-0.0013, -0.0013, -0.0013,  ..., -0.0013, -0.0013, -0.0013],\n",
       "           [-0.0013, -0.0013, -0.0013,  ..., -0.0013, -0.0013, -0.0013],\n",
       "           ...,\n",
       "           [-0.0013, -0.0013, -0.0013,  ..., -0.0013, -0.0013, -0.0013],\n",
       "           [-0.0013, -0.0013, -0.0013,  ..., -0.0013, -0.0013, -0.0013],\n",
       "           [-0.0013, -0.0013, -0.0013,  ..., -0.0013, -0.0013, -0.0013]]])})"
      ]
     },
     "execution_count": 11,
     "metadata": {},
     "output_type": "execute_result"
    }
   ],
   "source": [
    "from llava.train.train import encode_multimodal_preference_sample\n",
    "import torch.utils.data as torch_data\n",
    "\n",
    "class PreferenceInferenceDataset(torch_data.Dataset):\n",
    "    def __init__(self,\n",
    "                 data_path,\n",
    "                 tokenizer,\n",
    "                 img_processor,\n",
    "                 use_im_start_end):\n",
    "        self.data = pd.read_csv(data_path, sep='\\t')\n",
    "\n",
    "        self.mm_cfg = {\n",
    "            'image_processor': img_processor,\n",
    "            'is_multimodal': True,\n",
    "            # 'image_token_len': image_token_len, # TODO check if needed\n",
    "            'use_im_start_end': use_im_start_end,\n",
    "            'image_aspect_ratio': 'pad'\n",
    "        }\n",
    "        self.tokenizer = tokenizer\n",
    "\n",
    "    def __getitem__(self, index):\n",
    "        # After encode multimodal preference sample, \n",
    "        # the image would ahve the pixel values values\n",
    "        sample = self.convert_dataframe_row_to_source(self.data.iloc[index])\n",
    "        rej_data_dict, win_data_dict = encode_multimodal_preference_sample(sample, self.tokenizer, self.mm_cfg)\n",
    "        return rej_data_dict, win_data_dict\n",
    "    \n",
    "    def _get_image(self, img_filename):\n",
    "        img_path = os.path.join(IMAGE_FOLDER, img_filename)\n",
    "        image = Image.open(img_path).convert('RGB')\n",
    "        return image\n",
    "    \n",
    "\n",
    "    def _convert_to_llava_answer_turn(self, answer):\n",
    "        return {\"from\": \"gpt\", \"value\": answer}\n",
    "\n",
    "    def convert_dataframe_row_to_source(self, row):\n",
    "        dict_output = {'question': row['question'], \n",
    "                       # Chosen and rejected based on the sum of the first three quality score\n",
    "                    'chosen': self._convert_to_llava_answer_turn(row['chosen']),\n",
    "                    'rejected': self._convert_to_llava_answer_turn(row['rejected']),\n",
    "                    'image': self._get_image(row['image'])}\n",
    "        return dict_output\n",
    "\n",
    "    def __len__(self):\n",
    "        return len(self.data)\n",
    "    \n",
    "preference_torch_dataset = PreferenceInferenceDataset('/home/ubuntu/muffin/data/RLHF-V-Hall_v0/RLHF-V-Hall_v0-1837.tsv',\n",
    "                           tokenizer=tokenizer,\n",
    "                           img_processor=image_processor,\n",
    "                           use_im_start_end=False)\n",
    "preference_torch_dataset[0]"
   ]
  },
  {
   "cell_type": "code",
   "execution_count": 12,
   "metadata": {},
   "outputs": [
    {
     "data": {
      "text/plain": [
       "'pad'"
      ]
     },
     "execution_count": 12,
     "metadata": {},
     "output_type": "execute_result"
    }
   ],
   "source": [
    "preference_torch_dataset.mm_cfg['image_aspect_ratio']"
   ]
  },
  {
   "cell_type": "code",
   "execution_count": 13,
   "metadata": {},
   "outputs": [
    {
     "data": {
      "text/plain": [
       "torch.Size([3, 336, 336])"
      ]
     },
     "execution_count": 13,
     "metadata": {},
     "output_type": "execute_result"
    }
   ],
   "source": [
    "def _convert_to_llava_answer_turn(self, answer):\n",
    "    return {\"from\": \"gpt\", \"value\": answer}"
   ]
  },
  {
   "cell_type": "code",
   "execution_count": 14,
   "metadata": {},
   "outputs": [
    {
     "data": {
      "text/plain": [
       "torch.Size([226])"
      ]
     },
     "execution_count": 14,
     "metadata": {},
     "output_type": "execute_result"
    }
   ],
   "source": [
    "preference_torch_dataset[0][0]['input_ids'].shape"
   ]
  },
  {
   "cell_type": "code",
   "execution_count": null,
   "metadata": {},
   "outputs": [],
   "source": [
    "from llava.train.train import preference_collator_fn\n",
    "from functools import partial\n",
    "import tqdm\n",
    "from llava.train.llava_trainer import get_batch_logps\n",
    "dataset = preference_torch_dataset\n",
    "collate_fn = partial(preference_collator_fn, pad_token_id=tokenizer.pad_token_id)\n",
    "dataloader = torch_data.DataLoader(dataset, batch_size=1, collate_fn=collate_fn,\n",
    "                                    num_workers=5, shuffle=False)\n",
    "win_logp_list = []\n",
    "rej_logp_list = []\n",
    "\n",
    "win_avg_logp_list = []\n",
    "rej_avg_logp_list = []\n",
    "\n",
    "win_per_token_logp_list = []\n",
    "rej_per_token_logp_list = []\n",
    "\n",
    "with torch.inference_mode():\n",
    "    for batch in tqdm.tqdm(dataloader):\n",
    "        for key in ['win', 'rej']:\n",
    "            input_ids = batch[f'{key}_input_ids'].cuda()\n",
    "            labels = batch[f'{key}_labels'].cuda()\n",
    "            attention_mask = batch[f'{key}_attention_mask'].cuda()\n",
    "\n",
    "            output = model(\n",
    "                input_ids=input_ids,\n",
    "                labels=labels,\n",
    "                attention_mask=attention_mask,\n",
    "                images=batch['images'].half().cuda()\n",
    "            )\n",
    "            per_token_logp, log_prob, average_log_prob = get_batch_logps(output.logits, labels, return_all=True)\n",
    "\n",
    "            # print(per_token_logp.shape, input_ids.shape, labels.shape, flush=True)\n",
    "            assert per_token_logp.size(1) >= input_ids.size(1) - 1\n",
    "            per_token_logp = per_token_logp.tolist()\n",
    "            # per_token_logp = [x[:input_ids[i].ne(tokenizer.pad_token_id).sum().item()] for i, x in enumerate(per_token_logp)]\n",
    "            log_prob = log_prob.tolist()\n",
    "            average_log_prob = average_log_prob.tolist()\n",
    "\n",
    "            if key == 'win':\n",
    "                win_logp_list += log_prob\n",
    "                win_avg_logp_list += average_log_prob\n",
    "                win_per_token_logp_list += per_token_logp\n",
    "            else:\n",
    "                rej_logp_list += log_prob\n",
    "                rej_avg_logp_list += average_log_prob\n",
    "                rej_per_token_logp_list += per_token_logp\n",
    "            # print(f'{key} logits in {output.logits.shape}, logp in {log_prob.shape} avg_logp in {average_log_prob.shape}')"
   ]
  },
  {
   "cell_type": "code",
   "execution_count": 14,
   "metadata": {},
   "outputs": [
    {
     "ename": "AttributeError",
     "evalue": "Caught AttributeError in DataLoader worker process 0.\nOriginal Traceback (most recent call last):\n  File \"/home/ubuntu/mambaforge-pypy3/envs/llava/lib/python3.10/site-packages/transformers/feature_extraction_utils.py\", line 92, in __getattr__\n    return self.data[item]\nKeyError: 'shape'\n\nDuring handling of the above exception, another exception occurred:\n\nTraceback (most recent call last):\n  File \"/home/ubuntu/mambaforge-pypy3/envs/llava/lib/python3.10/site-packages/torch/utils/data/_utils/worker.py\", line 308, in _worker_loop\n    data = fetcher.fetch(index)\n  File \"/home/ubuntu/mambaforge-pypy3/envs/llava/lib/python3.10/site-packages/torch/utils/data/_utils/fetch.py\", line 54, in fetch\n    return self.collate_fn(data)\n  File \"/home/ubuntu/LLaVA/llava/train/train.py\", line 808, in preference_collator_fn\n    rej_batch = SFT_collator_fn(rej_instances, pad_token_id)\n  File \"/home/ubuntu/LLaVA/llava/train/train.py\", line 789, in SFT_collator_fn\n    if all(x is not None and x.shape == images[0].shape for x in images):\n  File \"/home/ubuntu/LLaVA/llava/train/train.py\", line 789, in <genexpr>\n    if all(x is not None and x.shape == images[0].shape for x in images):\n  File \"/home/ubuntu/mambaforge-pypy3/envs/llava/lib/python3.10/site-packages/transformers/feature_extraction_utils.py\", line 94, in __getattr__\n    raise AttributeError\nAttributeError\n",
     "output_type": "error",
     "traceback": [
      "\u001b[0;31m---------------------------------------------------------------------------\u001b[0m",
      "\u001b[0;31mAttributeError\u001b[0m                            Traceback (most recent call last)",
      "\u001b[1;32m/home/ubuntu/LLaVA/llava/eval/eval_logp_for_ddp.ipynb Cell 8\u001b[0m line \u001b[0;36m1\n\u001b[0;32m----> <a href='vscode-notebook-cell://ssh-remote%2B7b22686f73744e616d65223a22417a7572655f6e6f6e2d73706f74227d/home/ubuntu/LLaVA/llava/eval/eval_logp_for_ddp.ipynb#X11sdnNjb2RlLXJlbW90ZQ%3D%3D?line=0'>1</a>\u001b[0m \u001b[39mnext\u001b[39;49m(\u001b[39miter\u001b[39;49m(dataloader))\n",
      "File \u001b[0;32m~/mambaforge-pypy3/envs/llava/lib/python3.10/site-packages/torch/utils/data/dataloader.py:633\u001b[0m, in \u001b[0;36m_BaseDataLoaderIter.__next__\u001b[0;34m(self)\u001b[0m\n\u001b[1;32m    630\u001b[0m \u001b[39mif\u001b[39;00m \u001b[39mself\u001b[39m\u001b[39m.\u001b[39m_sampler_iter \u001b[39mis\u001b[39;00m \u001b[39mNone\u001b[39;00m:\n\u001b[1;32m    631\u001b[0m     \u001b[39m# TODO(https://github.com/pytorch/pytorch/issues/76750)\u001b[39;00m\n\u001b[1;32m    632\u001b[0m     \u001b[39mself\u001b[39m\u001b[39m.\u001b[39m_reset()  \u001b[39m# type: ignore[call-arg]\u001b[39;00m\n\u001b[0;32m--> 633\u001b[0m data \u001b[39m=\u001b[39m \u001b[39mself\u001b[39;49m\u001b[39m.\u001b[39;49m_next_data()\n\u001b[1;32m    634\u001b[0m \u001b[39mself\u001b[39m\u001b[39m.\u001b[39m_num_yielded \u001b[39m+\u001b[39m\u001b[39m=\u001b[39m \u001b[39m1\u001b[39m\n\u001b[1;32m    635\u001b[0m \u001b[39mif\u001b[39;00m \u001b[39mself\u001b[39m\u001b[39m.\u001b[39m_dataset_kind \u001b[39m==\u001b[39m _DatasetKind\u001b[39m.\u001b[39mIterable \u001b[39mand\u001b[39;00m \\\n\u001b[1;32m    636\u001b[0m         \u001b[39mself\u001b[39m\u001b[39m.\u001b[39m_IterableDataset_len_called \u001b[39mis\u001b[39;00m \u001b[39mnot\u001b[39;00m \u001b[39mNone\u001b[39;00m \u001b[39mand\u001b[39;00m \\\n\u001b[1;32m    637\u001b[0m         \u001b[39mself\u001b[39m\u001b[39m.\u001b[39m_num_yielded \u001b[39m>\u001b[39m \u001b[39mself\u001b[39m\u001b[39m.\u001b[39m_IterableDataset_len_called:\n",
      "File \u001b[0;32m~/mambaforge-pypy3/envs/llava/lib/python3.10/site-packages/torch/utils/data/dataloader.py:1345\u001b[0m, in \u001b[0;36m_MultiProcessingDataLoaderIter._next_data\u001b[0;34m(self)\u001b[0m\n\u001b[1;32m   1343\u001b[0m \u001b[39melse\u001b[39;00m:\n\u001b[1;32m   1344\u001b[0m     \u001b[39mdel\u001b[39;00m \u001b[39mself\u001b[39m\u001b[39m.\u001b[39m_task_info[idx]\n\u001b[0;32m-> 1345\u001b[0m     \u001b[39mreturn\u001b[39;00m \u001b[39mself\u001b[39;49m\u001b[39m.\u001b[39;49m_process_data(data)\n",
      "File \u001b[0;32m~/mambaforge-pypy3/envs/llava/lib/python3.10/site-packages/torch/utils/data/dataloader.py:1371\u001b[0m, in \u001b[0;36m_MultiProcessingDataLoaderIter._process_data\u001b[0;34m(self, data)\u001b[0m\n\u001b[1;32m   1369\u001b[0m \u001b[39mself\u001b[39m\u001b[39m.\u001b[39m_try_put_index()\n\u001b[1;32m   1370\u001b[0m \u001b[39mif\u001b[39;00m \u001b[39misinstance\u001b[39m(data, ExceptionWrapper):\n\u001b[0;32m-> 1371\u001b[0m     data\u001b[39m.\u001b[39;49mreraise()\n\u001b[1;32m   1372\u001b[0m \u001b[39mreturn\u001b[39;00m data\n",
      "File \u001b[0;32m~/mambaforge-pypy3/envs/llava/lib/python3.10/site-packages/torch/_utils.py:644\u001b[0m, in \u001b[0;36mExceptionWrapper.reraise\u001b[0;34m(self)\u001b[0m\n\u001b[1;32m    640\u001b[0m \u001b[39mexcept\u001b[39;00m \u001b[39mTypeError\u001b[39;00m:\n\u001b[1;32m    641\u001b[0m     \u001b[39m# If the exception takes multiple arguments, don't try to\u001b[39;00m\n\u001b[1;32m    642\u001b[0m     \u001b[39m# instantiate since we don't know how to\u001b[39;00m\n\u001b[1;32m    643\u001b[0m     \u001b[39mraise\u001b[39;00m \u001b[39mRuntimeError\u001b[39;00m(msg) \u001b[39mfrom\u001b[39;00m \u001b[39mNone\u001b[39;00m\n\u001b[0;32m--> 644\u001b[0m \u001b[39mraise\u001b[39;00m exception\n",
      "\u001b[0;31mAttributeError\u001b[0m: Caught AttributeError in DataLoader worker process 0.\nOriginal Traceback (most recent call last):\n  File \"/home/ubuntu/mambaforge-pypy3/envs/llava/lib/python3.10/site-packages/transformers/feature_extraction_utils.py\", line 92, in __getattr__\n    return self.data[item]\nKeyError: 'shape'\n\nDuring handling of the above exception, another exception occurred:\n\nTraceback (most recent call last):\n  File \"/home/ubuntu/mambaforge-pypy3/envs/llava/lib/python3.10/site-packages/torch/utils/data/_utils/worker.py\", line 308, in _worker_loop\n    data = fetcher.fetch(index)\n  File \"/home/ubuntu/mambaforge-pypy3/envs/llava/lib/python3.10/site-packages/torch/utils/data/_utils/fetch.py\", line 54, in fetch\n    return self.collate_fn(data)\n  File \"/home/ubuntu/LLaVA/llava/train/train.py\", line 808, in preference_collator_fn\n    rej_batch = SFT_collator_fn(rej_instances, pad_token_id)\n  File \"/home/ubuntu/LLaVA/llava/train/train.py\", line 789, in SFT_collator_fn\n    if all(x is not None and x.shape == images[0].shape for x in images):\n  File \"/home/ubuntu/LLaVA/llava/train/train.py\", line 789, in <genexpr>\n    if all(x is not None and x.shape == images[0].shape for x in images):\n  File \"/home/ubuntu/mambaforge-pypy3/envs/llava/lib/python3.10/site-packages/transformers/feature_extraction_utils.py\", line 94, in __getattr__\n    raise AttributeError\nAttributeError\n"
     ]
    }
   ],
   "source": [
    "next(iter(dataloader))"
   ]
  },
  {
   "cell_type": "code",
   "execution_count": 15,
   "metadata": {},
   "outputs": [
    {
     "name": "stdout",
     "output_type": "stream",
     "text": [
      "> \u001b[0;32m/home/ubuntu/mambaforge-pypy3/envs/llava/lib/python3.10/site-packages/torch/_utils.py\u001b[0m(644)\u001b[0;36mreraise\u001b[0;34m()\u001b[0m\n",
      "\u001b[0;32m    642 \u001b[0;31m            \u001b[0;31m# instantiate since we don't know how to\u001b[0m\u001b[0;34m\u001b[0m\u001b[0;34m\u001b[0m\u001b[0m\n",
      "\u001b[0m\u001b[0;32m    643 \u001b[0;31m            \u001b[0;32mraise\u001b[0m \u001b[0mRuntimeError\u001b[0m\u001b[0;34m(\u001b[0m\u001b[0mmsg\u001b[0m\u001b[0;34m)\u001b[0m \u001b[0;32mfrom\u001b[0m \u001b[0;32mNone\u001b[0m\u001b[0;34m\u001b[0m\u001b[0;34m\u001b[0m\u001b[0m\n",
      "\u001b[0m\u001b[0;32m--> 644 \u001b[0;31m        \u001b[0;32mraise\u001b[0m \u001b[0mexception\u001b[0m\u001b[0;34m\u001b[0m\u001b[0;34m\u001b[0m\u001b[0m\n",
      "\u001b[0m\u001b[0;32m    645 \u001b[0;31m\u001b[0;34m\u001b[0m\u001b[0m\n",
      "\u001b[0m\u001b[0;32m    646 \u001b[0;31m\u001b[0;34m\u001b[0m\u001b[0m\n",
      "\u001b[0m\n",
      "*** NameError: name 'images' is not defined\n",
      "> \u001b[0;32m/home/ubuntu/mambaforge-pypy3/envs/llava/lib/python3.10/site-packages/torch/utils/data/dataloader.py\u001b[0m(1371)\u001b[0;36m_process_data\u001b[0;34m()\u001b[0m\n",
      "\u001b[0;32m   1369 \u001b[0;31m        \u001b[0mself\u001b[0m\u001b[0;34m.\u001b[0m\u001b[0m_try_put_index\u001b[0m\u001b[0;34m(\u001b[0m\u001b[0;34m)\u001b[0m\u001b[0;34m\u001b[0m\u001b[0;34m\u001b[0m\u001b[0m\n",
      "\u001b[0m\u001b[0;32m   1370 \u001b[0;31m        \u001b[0;32mif\u001b[0m \u001b[0misinstance\u001b[0m\u001b[0;34m(\u001b[0m\u001b[0mdata\u001b[0m\u001b[0;34m,\u001b[0m \u001b[0mExceptionWrapper\u001b[0m\u001b[0;34m)\u001b[0m\u001b[0;34m:\u001b[0m\u001b[0;34m\u001b[0m\u001b[0;34m\u001b[0m\u001b[0m\n",
      "\u001b[0m\u001b[0;32m-> 1371 \u001b[0;31m            \u001b[0mdata\u001b[0m\u001b[0;34m.\u001b[0m\u001b[0mreraise\u001b[0m\u001b[0;34m(\u001b[0m\u001b[0;34m)\u001b[0m\u001b[0;34m\u001b[0m\u001b[0;34m\u001b[0m\u001b[0m\n",
      "\u001b[0m\u001b[0;32m   1372 \u001b[0;31m        \u001b[0;32mreturn\u001b[0m \u001b[0mdata\u001b[0m\u001b[0;34m\u001b[0m\u001b[0;34m\u001b[0m\u001b[0m\n",
      "\u001b[0m\u001b[0;32m   1373 \u001b[0;31m\u001b[0;34m\u001b[0m\u001b[0m\n",
      "\u001b[0m\n",
      "*** NameError: name 'images' is not defined\n",
      "*** Invalid frame count (')\n",
      "> \u001b[0;32m/home/ubuntu/mambaforge-pypy3/envs/llava/lib/python3.10/site-packages/torch/utils/data/dataloader.py\u001b[0m(1345)\u001b[0;36m_next_data\u001b[0;34m()\u001b[0m\n",
      "\u001b[0;32m   1343 \u001b[0;31m            \u001b[0;32melse\u001b[0m\u001b[0;34m:\u001b[0m\u001b[0;34m\u001b[0m\u001b[0;34m\u001b[0m\u001b[0m\n",
      "\u001b[0m\u001b[0;32m   1344 \u001b[0;31m                \u001b[0;32mdel\u001b[0m \u001b[0mself\u001b[0m\u001b[0;34m.\u001b[0m\u001b[0m_task_info\u001b[0m\u001b[0;34m[\u001b[0m\u001b[0midx\u001b[0m\u001b[0;34m]\u001b[0m\u001b[0;34m\u001b[0m\u001b[0;34m\u001b[0m\u001b[0m\n",
      "\u001b[0m\u001b[0;32m-> 1345 \u001b[0;31m                \u001b[0;32mreturn\u001b[0m \u001b[0mself\u001b[0m\u001b[0;34m.\u001b[0m\u001b[0m_process_data\u001b[0m\u001b[0;34m(\u001b[0m\u001b[0mdata\u001b[0m\u001b[0;34m)\u001b[0m\u001b[0;34m\u001b[0m\u001b[0;34m\u001b[0m\u001b[0m\n",
      "\u001b[0m\u001b[0;32m   1346 \u001b[0;31m\u001b[0;34m\u001b[0m\u001b[0m\n",
      "\u001b[0m\u001b[0;32m   1347 \u001b[0;31m    \u001b[0;32mdef\u001b[0m \u001b[0m_try_put_index\u001b[0m\u001b[0;34m(\u001b[0m\u001b[0mself\u001b[0m\u001b[0;34m)\u001b[0m\u001b[0;34m:\u001b[0m\u001b[0;34m\u001b[0m\u001b[0;34m\u001b[0m\u001b[0m\n",
      "\u001b[0m\n",
      "> \u001b[0;32m/home/ubuntu/mambaforge-pypy3/envs/llava/lib/python3.10/site-packages/torch/utils/data/dataloader.py\u001b[0m(633)\u001b[0;36m__next__\u001b[0;34m()\u001b[0m\n",
      "\u001b[0;32m    631 \u001b[0;31m                \u001b[0;31m# TODO(https://github.com/pytorch/pytorch/issues/76750)\u001b[0m\u001b[0;34m\u001b[0m\u001b[0;34m\u001b[0m\u001b[0m\n",
      "\u001b[0m\u001b[0;32m    632 \u001b[0;31m                \u001b[0mself\u001b[0m\u001b[0;34m.\u001b[0m\u001b[0m_reset\u001b[0m\u001b[0;34m(\u001b[0m\u001b[0;34m)\u001b[0m  \u001b[0;31m# type: ignore[call-arg]\u001b[0m\u001b[0;34m\u001b[0m\u001b[0;34m\u001b[0m\u001b[0m\n",
      "\u001b[0m\u001b[0;32m--> 633 \u001b[0;31m            \u001b[0mdata\u001b[0m \u001b[0;34m=\u001b[0m \u001b[0mself\u001b[0m\u001b[0;34m.\u001b[0m\u001b[0m_next_data\u001b[0m\u001b[0;34m(\u001b[0m\u001b[0;34m)\u001b[0m\u001b[0;34m\u001b[0m\u001b[0;34m\u001b[0m\u001b[0m\n",
      "\u001b[0m\u001b[0;32m    634 \u001b[0;31m            \u001b[0mself\u001b[0m\u001b[0;34m.\u001b[0m\u001b[0m_num_yielded\u001b[0m \u001b[0;34m+=\u001b[0m \u001b[0;36m1\u001b[0m\u001b[0;34m\u001b[0m\u001b[0;34m\u001b[0m\u001b[0m\n",
      "\u001b[0m\u001b[0;32m    635 \u001b[0;31m            \u001b[0;32mif\u001b[0m \u001b[0mself\u001b[0m\u001b[0;34m.\u001b[0m\u001b[0m_dataset_kind\u001b[0m \u001b[0;34m==\u001b[0m \u001b[0m_DatasetKind\u001b[0m\u001b[0;34m.\u001b[0m\u001b[0mIterable\u001b[0m \u001b[0;32mand\u001b[0m\u001b[0;31m \u001b[0m\u001b[0;31m\\\u001b[0m\u001b[0;34m\u001b[0m\u001b[0;34m\u001b[0m\u001b[0m\n",
      "\u001b[0m\n"
     ]
    }
   ],
   "source": [
    "%debug"
   ]
  }
 ],
 "metadata": {
  "kernelspec": {
   "display_name": "Python 3",
   "language": "python",
   "name": "python3"
  },
  "language_info": {
   "codemirror_mode": {
    "name": "ipython",
    "version": 3
   },
   "file_extension": ".py",
   "mimetype": "text/x-python",
   "name": "python",
   "nbconvert_exporter": "python",
   "pygments_lexer": "ipython3",
   "version": "3.10.12"
  }
 },
 "nbformat": 4,
 "nbformat_minor": 2
}
