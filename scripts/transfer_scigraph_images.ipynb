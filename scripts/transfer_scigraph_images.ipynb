{
 "cells": [
  {
   "cell_type": "code",
   "execution_count": null,
   "metadata": {},
   "outputs": [],
   "source": [
    "    # gpu=$((i % 4))  # Use modulo 4 to cycle through the 4 available GPUs\n",
    "    # CUDA_VISIBLE_DEVICES=$gpu python -m llava.eval.model_vqa_loader \\\n",
    "    #     --model-path ./checkpoints/llava-v1.5-13b \\\n",
    "    #     --question-file /home/ubuntu/latest_llava/LLaVA/playground/data/deplot_test_for_llava_inference.jsonl \\\n",
    "    #     --image-folder /home/ubuntu/imgs/train/ \\\n",
    "    #     --answers-file ./playground/data/Scigraph/llava__sft_3000$i.json \\\n",
    "    #     --temperature 1.2 \\\n",
    "    #     --conv-mode vicuna_v1 \\\n",
    "    #     --max_new_tokens 1024 &"
   ]
  },
  {
   "cell_type": "code",
   "execution_count": 1,
   "metadata": {},
   "outputs": [],
   "source": [
    "import json\n",
    "import pandas as pd\n",
    "\n",
    "df = pd.read_json('/home/ubuntu/latest_llava/LLaVA/playground/data/deplot_test_for_llava_inference.jsonl', lines=True)"
   ]
  },
  {
   "cell_type": "code",
   "execution_count": 2,
   "metadata": {},
   "outputs": [],
   "source": [
    "df['entire_image_path'] = df['image'].apply(lambda x: '/home/ubuntu/imgs/train/' + x)"
   ]
  },
  {
   "cell_type": "code",
   "execution_count": 3,
   "metadata": {},
   "outputs": [],
   "source": [
    "folder = '/home/ubuntu/latest_llava/llava_1dot5data/coco/train2017/scigraph'"
   ]
  },
  {
   "cell_type": "code",
   "execution_count": 10,
   "metadata": {},
   "outputs": [],
   "source": [
    "# New folder path (ensure this ends with a slash or use os.path.join for proper handling)\n",
    "new_folder_path = '/home/ubuntu/latest_llava/llava_1dot5data/coco/train2017/scigraph'\n",
    "import os\n",
    "import shutil\n",
    "# Extracting file name from the original path\n",
    "def copy_file(source):\n",
    "\n",
    "    # Copying the file to the new location\n",
    "    file_name = os.path.basename(source)\n",
    "\n",
    "    # New destination path with the original file name\n",
    "    destination = os.path.join(new_folder_path, file_name)\n",
    "\n",
    "    # Copying the file to the new location\n",
    "    shutil.copy(source, destination)\n",
    "\n",
    "for i in range(len(df)):\n",
    "    copy_file(df['entire_image_path'].iloc[i])\n"
   ]
  },
  {
   "cell_type": "code",
   "execution_count": 7,
   "metadata": {},
   "outputs": [
    {
     "data": {
      "text/plain": [
       "'1801.01974v2-Figure10-1.png'"
      ]
     },
     "execution_count": 7,
     "metadata": {},
     "output_type": "execute_result"
    }
   ],
   "source": [
    "os.path.basename(df['entire_image_path'].iloc[i])"
   ]
  },
  {
   "cell_type": "code",
   "execution_count": null,
   "metadata": {},
   "outputs": [],
   "source": []
  }
 ],
 "metadata": {
  "kernelspec": {
   "display_name": "llava",
   "language": "python",
   "name": "python3"
  },
  "language_info": {
   "codemirror_mode": {
    "name": "ipython",
    "version": 3
   },
   "file_extension": ".py",
   "mimetype": "text/x-python",
   "name": "python",
   "nbconvert_exporter": "python",
   "pygments_lexer": "ipython3",
   "version": "3.10.12"
  }
 },
 "nbformat": 4,
 "nbformat_minor": 2
}
